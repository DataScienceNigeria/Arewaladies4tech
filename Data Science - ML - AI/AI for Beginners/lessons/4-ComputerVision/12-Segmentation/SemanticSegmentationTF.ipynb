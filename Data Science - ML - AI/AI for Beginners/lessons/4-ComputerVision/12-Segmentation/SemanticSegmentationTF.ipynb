{
  "cells": [
    {
      "cell_type": "markdown",
      "metadata": {
        "id": "3AbTeDP5Tbou"
      },
      "source": [
        "# Semantic Segmentation\n",
        "\n",
        "**Segmentation** is one of the main computer vision task. For **each** pixel of image you must specify class(background included). Semantic segmentation only tells pixel class, instance segmentation divide classes into different instances. \n",
        "\n",
        "For instance segmentation ten cars is **different** objects, for semantic segmentation **all** cars is one class.\n",
        "\n",
        "<img src=\"images/instance_vs_semantic.jpeg\" width=\"50%\">\n",
        "\n",
        "> Image from [this blog post](https://nirmalamurali.medium.com/image-classification-vs-semantic-segmentation-vs-instance-segmentation-625c33a08d50)\n",
        "\n",
        "Almost all architectures have same structure. First part is **encoder** that extracts features from input image, second part is **decoder** that transforms this features into image with same height and width and some number of channels, may be equal to classes count.\n",
        "\n",
        "<img src=\"images/segm.png\" width=\"80%\">\n",
        "\n",
        "> Image from [this publication](https://arxiv.org/pdf/2001.05566.pdf)"
      ]
    },
    {
      "cell_type": "code",
      "execution_count": 210,
      "metadata": {
        "id": "Ug57Bnb5QhfP"
      },
      "outputs": [],
      "source": [
        "import tensorflow as tf\n",
        "import tensorflow.keras.layers as keras\n",
        "import matplotlib.pyplot as plt\n",
        "from tqdm import tqdm\n",
        "import numpy as np\n",
        "from skimage.io import imread\n",
        "from skimage.transform import resize\n",
        "import os\n",
        "import tensorflow.keras.optimizers as optimizers\n",
        "import tensorflow.keras.losses as losses\n",
        "from tensorflow.keras.preprocessing.image import ImageDataGenerator\n",
        "tf.random.set_seed(42)\n",
        "np.random.seed(42)"
      ]
    },
    {
      "cell_type": "code",
      "execution_count": 211,
      "metadata": {
        "id": "xhSEogpDFMpK"
      },
      "outputs": [],
      "source": [
        "train_size = 0.8\n",
        "lr = 3e-4\n",
        "weight_decay = 8e-9\n",
        "batch_size = 64\n",
        "epochs = 100"
      ]
    },
    {
      "cell_type": "markdown",
      "metadata": {
        "id": "D4if75qwFMpJ"
      },
      "source": [
        "## Dataset"
      ]
    },
    {
      "cell_type": "code",
      "execution_count": null,
      "metadata": {
        "id": "TkuYGLRKFMpK"
      },
      "outputs": [],
      "source": [
        "!apt-get install rar\n",
        "!wget https://www.dropbox.com/s/k88qukc20ljnbuo/PH2Dataset.rar\n",
        "!unrar x -Y PH2Dataset.rar"
      ]
    },
    {
      "cell_type": "code",
      "execution_count": 198,
      "metadata": {
        "id": "Rumy9ldAFteW"
      },
      "outputs": [],
      "source": [
        "def load_dataset(train_part, root='PH2Dataset'):\n",
        "    images = []\n",
        "    masks = []\n",
        "\n",
        "    for root, dirs, files in os.walk(os.path.join(root, 'PH2 Dataset images')):\n",
        "        if root.endswith('_Dermoscopic_Image'):\n",
        "            images.append(imread(os.path.join(root, files[0])))\n",
        "        if root.endswith('_lesion'):\n",
        "            masks.append(imread(os.path.join(root, files[0])))\n",
        "\n",
        "    size = (256, 256)\n",
        "    images = np.array([resize(image, size, mode='constant', anti_aliasing=True,) for image in images])\n",
        "    masks = np.expand_dims(np.array([resize(mask, size, mode='constant', anti_aliasing=False) > 0.5 for mask in masks]), axis=3)\n",
        "\n",
        "    indices = np.random.permutation(range(len(images)))\n",
        "    train_part = int(train_part * len(images))\n",
        "    train_ind = indices[:train_part]\n",
        "    test_ind = indices[train_part:]\n",
        "\n",
        "    X_train = tf.cast(images[train_ind, :, :, :], tf.float32)\n",
        "    y_train = tf.cast(masks[train_ind, :, :, :], tf.float32)\n",
        "\n",
        "    X_test = tf.cast(images[test_ind, :, :, :], tf.float32)\n",
        "    y_test = tf.cast(masks[test_ind, :, :, :], tf.float32)\n",
        "\n",
        "    return (X_train, y_train), (X_test, y_test)"
      ]
    },
    {
      "cell_type": "code",
      "execution_count": 199,
      "metadata": {
        "id": "kCjj0YKcGBKr"
      },
      "outputs": [],
      "source": [
        "(X_train, y_train), (X_test, y_test) = load_dataset(train_size)"
      ]
    },
    {
      "cell_type": "code",
      "execution_count": 200,
      "metadata": {
        "id": "jP2_-AjIFMpO"
      },
      "outputs": [],
      "source": [
        "def plotn(n, data):\n",
        "    images, masks = data[0], data[1]\n",
        "    fig, ax = plt.subplots(1, n)\n",
        "    fig1, ax1 = plt.subplots(1, n)\n",
        "    for i, (img, mask) in enumerate(zip(images, masks)):\n",
        "        if i == n:\n",
        "            break\n",
        "        ax[i].imshow(img)\n",
        "        ax1[i].imshow(mask[:, :, 0])\n",
        "    plt.show()"
      ]
    },
    {
      "cell_type": "markdown",
      "metadata": {
        "id": "9tBja_1KFMpP"
      },
      "source": [
        "**Let's plot some images with corresponding masks.**"
      ]
    },
    {
      "cell_type": "code",
      "execution_count": 201,
      "metadata": {
        "colab": {
          "base_uri": "https://localhost:8080/",
          "height": 203
        },
        "id": "IA8ziDUJFMpQ",
        "outputId": "941c2263-ee84-48f4-9127-334f13b4d9ff"
      },
      "outputs": [
        {
          "data": {
            "image/png": "[encoded data removed]",
            "text/plain": [
              "<Figure size 432x288 with 5 Axes>"
            ]
          },
          "metadata": {
            "needs_background": "light"
          },
          "output_type": "display_data"
        },
        {
          "data": {
            "image/png": "[encoded data removed]",
            "text/plain": [
              "<Figure size 432x288 with 5 Axes>"
            ]
          },
          "metadata": {
            "needs_background": "light"
          },
          "output_type": "display_data"
        }
      ],
      "source": [
        "plotn(5, (X_train, y_train))"
      ]
    },
    {
      "cell_type": "markdown",
      "metadata": {
        "id": "ORmas8XhYfS8"
      },
      "source": [
        "## SegNet\n",
        "\n",
        "Simple encoder - decoder architecture with convolutions, poolings in encoder and convolutions, upsamplings in decoder.\n",
        "\n",
        "<img src=\"images/segnet.png\" width=\"80%\">\n",
        "\n",
        "* Badrinarayanan, V., Kendall, A., & Cipolla, R. (2015). [SegNet: A deep convolutional\n",
        "encoder-decoder architecture for image segmentation](https://arxiv.org/pdf/1511.00561.pdf)"
      ]
    },
    {
      "cell_type": "code",
      "execution_count": 212,
      "metadata": {
        "id": "pmSOZXhfp6sL"
      },
      "outputs": [],
      "source": [
        "class SegNet(tf.keras.Model):\n",
        "    def __init__(self):\n",
        "        super().__init__()\n",
        "        self.enc_conv0 = keras.Conv2D(16, kernel_size=3, padding='same')\n",
        "        self.bn0 = keras.BatchNormalization()\n",
        "        self.relu0 = keras.Activation('relu')\n",
        "        self.pool0 = keras.MaxPool2D()\n",
        "\n",
        "        self.enc_conv1 = keras.Conv2D(32, kernel_size=3, padding='same')\n",
        "        self.relu1 = keras.Activation('relu')\n",
        "        self.bn1 = keras.BatchNormalization()\n",
        "        self.pool1 = keras.MaxPool2D()\n",
        "\n",
        "        self.enc_conv2 = keras.Conv2D(64, kernel_size=3, padding='same')\n",
        "        self.relu2 = keras.Activation('relu')\n",
        "        self.bn2 = keras.BatchNormalization()\n",
        "        self.pool2 = keras.MaxPool2D()\n",
        "\n",
        "        self.enc_conv3 = keras.Conv2D(128, kernel_size=3, padding='same')\n",
        "        self.relu3 = keras.Activation('relu')\n",
        "        self.bn3 = keras.BatchNormalization()\n",
        "        self.pool3 = keras.MaxPool2D()\n",
        "\n",
        "        self.bottleneck_conv = keras.Conv2D(256, kernel_size=(3, 3), padding='same')\n",
        "\n",
        "        self.upsample0 =  keras.UpSampling2D(interpolation='bilinear')\n",
        "        self.dec_conv0 = keras.Conv2D(128, kernel_size=3, padding='same')\n",
        "        self.dec_relu0 = keras.Activation('relu')\n",
        "        self.dec_bn0 = keras.BatchNormalization()\n",
        "\n",
        "        self.upsample1 =  keras.UpSampling2D(interpolation='bilinear')\n",
        "        self.dec_conv1 = keras.Conv2D(64, kernel_size=3, padding='same')\n",
        "        self.dec_relu1 = keras.Activation('relu')\n",
        "        self.dec_bn1 = keras.BatchNormalization()\n",
        "\n",
        "        self.upsample2 =  keras.UpSampling2D(interpolation='bilinear')\n",
        "        self.dec_conv2 = keras.Conv2D(32, kernel_size=3, padding='same')\n",
        "        self.dec_relu2 = keras.Activation('relu')\n",
        "        self.dec_bn2 = keras.BatchNormalization()\n",
        "\n",
        "        self.upsample3 =  keras.UpSampling2D(interpolation='bilinear')\n",
        "        self.dec_conv3 = keras.Conv2D(1, kernel_size=1)\n",
        "\n",
        "    def call(self, input):\n",
        "        e0 = self.pool0(self.relu0(self.bn0(self.enc_conv0(input))))\n",
        "        e1 = self.pool1(self.relu1(self.bn1(self.enc_conv1(e0))))\n",
        "        e2 = self.pool2(self.relu2(self.bn2(self.enc_conv2(e1))))\n",
        "        e3 = self.pool3(self.relu3(self.bn3(self.enc_conv3(e2))))\n",
        "\n",
        "        b = self.bottleneck_conv(e3)\n",
        "\n",
        "        d0 = self.dec_relu0(self.dec_bn0(self.upsample0(self.dec_conv0(b))))\n",
        "        d1 = self.dec_relu1(self.dec_bn1(self.upsample1(self.dec_conv1(d0))))\n",
        "        d2 = self.dec_relu2(self.dec_bn2(self.upsample2(self.dec_conv2(d1))))\n",
        "        d3 = self.dec_conv3(self.upsample3(d2))\n",
        "\n",
        "        return d3"
      ]
    },
    {
      "cell_type": "code",
      "execution_count": 213,
      "metadata": {
        "id": "2GoR8-huFMpn"
      },
      "outputs": [],
      "source": [
        "model = SegNet()\n",
        "optimizer = optimizers.Adam(learning_rate=lr, decay=weight_decay)\n",
        "loss_fn = losses.BinaryCrossentropy(from_logits=True)\n",
        "\n",
        "model.compile(loss=loss_fn, optimizer=optimizer)"
      ]
    },
    {
      "cell_type": "code",
      "execution_count": 214,
      "metadata": {
        "id": "HQ_UFglyTbqM"
      },
      "outputs": [],
      "source": [
        "def train(datasets, model, epochs, batch_size):\n",
        "    train_dataset, test_dataset = datasets[0], datasets[1]\n",
        "\n",
        "    model.fit(train_dataset[0], train_dataset[1],\n",
        "                epochs=epochs,\n",
        "                batch_size=batch_size,\n",
        "                shuffle=True,\n",
        "                validation_data=(test_dataset[0], test_dataset[1]))"
      ]
    },
    {
      "cell_type": "code",
      "execution_count": 215,
      "metadata": {
        "colab": {
          "base_uri": "https://localhost:8080/"
        },
        "id": "MsgM_kZRFMpo",
        "outputId": "fe7cb83b-f6e4-46da-f077-74c6c44aabca"
      },
      "outputs": [
        {
          "name": "stdout",
          "output_type": "stream",
          "text": [
            "Epoch 1/100\n",
            "3/3 [==============================] - 2s 298ms/step - loss: 0.6123 - val_loss: 0.6960\n",
            "Epoch 2/100\n",
            "3/3 [==============================] - 1s 197ms/step - loss: 0.3332 - val_loss: 0.6874\n",
            "Epoch 3/100\n",
            "3/3 [==============================] - 1s 199ms/step - loss: 0.2715 - val_loss: 0.6707\n",
            "Epoch 4/100\n",
            "3/3 [==============================] - 1s 205ms/step - loss: 0.2508 - val_loss: 0.6544\n",
            "Epoch 5/100\n",
            "3/3 [==============================] - 1s 286ms/step - loss: 0.2290 - val_loss: 0.6403\n",
            "Epoch 6/100\n",
            "3/3 [==============================] - 1s 235ms/step - loss: 0.2110 - val_loss: 0.6242\n",
            "Epoch 7/100\n",
            "3/3 [==============================] - 1s 231ms/step - loss: 0.1986 - val_loss: 0.6138\n",
            "Epoch 8/100\n",
            "3/3 [==============================] - 1s 197ms/step - loss: 0.1923 - val_loss: 0.6068\n",
            "Epoch 9/100\n",
            "3/3 [==============================] - 1s 203ms/step - loss: 0.1789 - val_loss: 0.6018\n",
            "Epoch 10/100\n",
            "3/3 [==============================] - 1s 199ms/step - loss: 0.1714 - val_loss: 0.5979\n",
            "Epoch 11/100\n",
            "3/3 [==============================] - 1s 201ms/step - loss: 0.1745 - val_loss: 0.5945\n",
            "Epoch 12/100\n",
            "3/3 [==============================] - 1s 196ms/step - loss: 0.1613 - val_loss: 0.5912\n",
            "Epoch 13/100\n",
            "3/3 [==============================] - 1s 199ms/step - loss: 0.1570 - val_loss: 0.5877\n",
            "Epoch 14/100\n",
            "3/3 [==============================] - 1s 201ms/step - loss: 0.1547 - val_loss: 0.5861\n",
            "Epoch 15/100\n",
            "3/3 [==============================] - 1s 204ms/step - loss: 0.1546 - val_loss: 0.5862\n",
            "Epoch 16/100\n",
            "3/3 [==============================] - 1s 197ms/step - loss: 0.1527 - val_loss: 0.5853\n",
            "Epoch 17/100\n",
            "3/3 [==============================] - 1s 197ms/step - loss: 0.1456 - val_loss: 0.5865\n",
            "Epoch 18/100\n",
            "3/3 [==============================] - 1s 202ms/step - loss: 0.1567 - val_loss: 0.5903\n",
            "Epoch 19/100\n",
            "3/3 [==============================] - 1s 198ms/step - loss: 0.1429 - val_loss: 0.5939\n",
            "Epoch 20/100\n",
            "3/3 [==============================] - 1s 207ms/step - loss: 0.1432 - val_loss: 0.5960\n",
            "Epoch 21/100\n",
            "3/3 [==============================] - 1s 201ms/step - loss: 0.1438 - val_loss: 0.5940\n",
            "Epoch 22/100\n",
            "3/3 [==============================] - 1s 204ms/step - loss: 0.1449 - val_loss: 0.5933\n",
            "Epoch 23/100\n",
            "3/3 [==============================] - 1s 201ms/step - loss: 0.1424 - val_loss: 0.5972\n",
            "Epoch 24/100\n",
            "3/3 [==============================] - 1s 201ms/step - loss: 0.1407 - val_loss: 0.5999\n",
            "Epoch 25/100\n",
            "3/3 [==============================] - 1s 206ms/step - loss: 0.1370 - val_loss: 0.6001\n",
            "Epoch 26/100\n",
            "3/3 [==============================] - 1s 215ms/step - loss: 0.1371 - val_loss: 0.6021\n",
            "Epoch 27/100\n",
            "3/3 [==============================] - 1s 200ms/step - loss: 0.1345 - val_loss: 0.6194\n",
            "Epoch 28/100\n",
            "3/3 [==============================] - 1s 200ms/step - loss: 0.1312 - val_loss: 0.6287\n",
            "Epoch 29/100\n",
            "3/3 [==============================] - 1s 199ms/step - loss: 0.1304 - val_loss: 0.6154\n",
            "Epoch 30/100\n",
            "3/3 [==============================] - 1s 201ms/step - loss: 0.1265 - val_loss: 0.6151\n",
            "Epoch 31/100\n",
            "3/3 [==============================] - 1s 201ms/step - loss: 0.1219 - val_loss: 0.6220\n",
            "Epoch 32/100\n",
            "3/3 [==============================] - 1s 210ms/step - loss: 0.1200 - val_loss: 0.6249\n",
            "Epoch 33/100\n",
            "3/3 [==============================] - 1s 199ms/step - loss: 0.1151 - val_loss: 0.6268\n",
            "Epoch 34/100\n",
            "3/3 [==============================] - 1s 202ms/step - loss: 0.1139 - val_loss: 0.6328\n",
            "Epoch 35/100\n",
            "3/3 [==============================] - 1s 200ms/step - loss: 0.1117 - val_loss: 0.6297\n",
            "Epoch 36/100\n",
            "3/3 [==============================] - 1s 200ms/step - loss: 0.1081 - val_loss: 0.6288\n",
            "Epoch 37/100\n",
            "3/3 [==============================] - 1s 204ms/step - loss: 0.1064 - val_loss: 0.6330\n",
            "Epoch 38/100\n",
            "3/3 [==============================] - 1s 202ms/step - loss: 0.1056 - val_loss: 0.6385\n",
            "Epoch 39/100\n",
            "3/3 [==============================] - 1s 204ms/step - loss: 0.1086 - val_loss: 0.6446\n",
            "Epoch 40/100\n",
            "3/3 [==============================] - 1s 199ms/step - loss: 0.1047 - val_loss: 0.6595\n",
            "Epoch 41/100\n",
            "3/3 [==============================] - 1s 206ms/step - loss: 0.1040 - val_loss: 0.6602\n",
            "Epoch 42/100\n",
            "3/3 [==============================] - 1s 206ms/step - loss: 0.1073 - val_loss: 0.6681\n",
            "Epoch 43/100\n",
            "3/3 [==============================] - 1s 200ms/step - loss: 0.1074 - val_loss: 0.6802\n",
            "Epoch 44/100\n",
            "3/3 [==============================] - 1s 202ms/step - loss: 0.0992 - val_loss: 0.6728\n",
            "Epoch 45/100\n",
            "3/3 [==============================] - 1s 204ms/step - loss: 0.0976 - val_loss: 0.6802\n",
            "Epoch 46/100\n",
            "3/3 [==============================] - 1s 198ms/step - loss: 0.0973 - val_loss: 0.6865\n",
            "Epoch 47/100\n",
            "3/3 [==============================] - 1s 200ms/step - loss: 0.1094 - val_loss: 0.7038\n",
            "Epoch 48/100\n",
            "3/3 [==============================] - 1s 202ms/step - loss: 0.0974 - val_loss: 0.7115\n",
            "Epoch 49/100\n",
            "3/3 [==============================] - 1s 200ms/step - loss: 0.0964 - val_loss: 0.7044\n",
            "Epoch 50/100\n",
            "3/3 [==============================] - 1s 206ms/step - loss: 0.0922 - val_loss: 0.7199\n",
            "Epoch 51/100\n",
            "3/3 [==============================] - 1s 198ms/step - loss: 0.0951 - val_loss: 0.7396\n",
            "Epoch 52/100\n",
            "3/3 [==============================] - 1s 198ms/step - loss: 0.1069 - val_loss: 0.7395\n",
            "Epoch 53/100\n",
            "3/3 [==============================] - 1s 203ms/step - loss: 0.1093 - val_loss: 0.7520\n",
            "Epoch 54/100\n",
            "3/3 [==============================] - 1s 202ms/step - loss: 0.0953 - val_loss: 0.7568\n",
            "Epoch 55/100\n",
            "3/3 [==============================] - 1s 206ms/step - loss: 0.1025 - val_loss: 0.7783\n",
            "Epoch 56/100\n",
            "3/3 [==============================] - 1s 201ms/step - loss: 0.0912 - val_loss: 0.7390\n",
            "Epoch 57/100\n",
            "3/3 [==============================] - 1s 203ms/step - loss: 0.0931 - val_loss: 0.7246\n",
            "Epoch 58/100\n",
            "3/3 [==============================] - 1s 198ms/step - loss: 0.0870 - val_loss: 0.7614\n",
            "Epoch 59/100\n",
            "3/3 [==============================] - 1s 200ms/step - loss: 0.0896 - val_loss: 0.7579\n",
            "Epoch 60/100\n",
            "3/3 [==============================] - 1s 200ms/step - loss: 0.0872 - val_loss: 0.7351\n",
            "Epoch 61/100\n",
            "3/3 [==============================] - 1s 200ms/step - loss: 0.0839 - val_loss: 0.7296\n",
            "Epoch 62/100\n",
            "3/3 [==============================] - 1s 203ms/step - loss: 0.0797 - val_loss: 0.7343\n",
            "Epoch 63/100\n",
            "3/3 [==============================] - 1s 198ms/step - loss: 0.0776 - val_loss: 0.7349\n",
            "Epoch 64/100\n",
            "3/3 [==============================] - 1s 205ms/step - loss: 0.0794 - val_loss: 0.7375\n",
            "Epoch 65/100\n",
            "3/3 [==============================] - 1s 200ms/step - loss: 0.0758 - val_loss: 0.7488\n",
            "Epoch 66/100\n",
            "3/3 [==============================] - 1s 200ms/step - loss: 0.0774 - val_loss: 0.7626\n",
            "Epoch 67/100\n",
            "3/3 [==============================] - 1s 203ms/step - loss: 0.0758 - val_loss: 0.7650\n",
            "Epoch 68/100\n",
            "3/3 [==============================] - 1s 205ms/step - loss: 0.0792 - val_loss: 0.7603\n",
            "Epoch 69/100\n",
            "3/3 [==============================] - 1s 198ms/step - loss: 0.0764 - val_loss: 0.7573\n",
            "Epoch 70/100\n",
            "3/3 [==============================] - 1s 198ms/step - loss: 0.0791 - val_loss: 0.7603\n",
            "Epoch 71/100\n",
            "3/3 [==============================] - 1s 197ms/step - loss: 0.0749 - val_loss: 0.7415\n",
            "Epoch 72/100\n",
            "3/3 [==============================] - 1s 199ms/step - loss: 0.0730 - val_loss: 0.7432\n",
            "Epoch 73/100\n",
            "3/3 [==============================] - 1s 199ms/step - loss: 0.0729 - val_loss: 0.7702\n",
            "Epoch 74/100\n",
            "3/3 [==============================] - 1s 200ms/step - loss: 0.0711 - val_loss: 0.7692\n",
            "Epoch 75/100\n",
            "3/3 [==============================] - 1s 199ms/step - loss: 0.0710 - val_loss: 0.7545\n",
            "Epoch 76/100\n",
            "3/3 [==============================] - 1s 200ms/step - loss: 0.0680 - val_loss: 0.7410\n",
            "Epoch 77/100\n",
            "3/3 [==============================] - 1s 201ms/step - loss: 0.0683 - val_loss: 0.7372\n",
            "Epoch 78/100\n",
            "3/3 [==============================] - 1s 199ms/step - loss: 0.0684 - val_loss: 0.6997\n",
            "Epoch 79/100\n",
            "3/3 [==============================] - 1s 200ms/step - loss: 0.0654 - val_loss: 0.7236\n",
            "Epoch 80/100\n",
            "3/3 [==============================] - 1s 196ms/step - loss: 0.0682 - val_loss: 0.7213\n",
            "Epoch 81/100\n",
            "3/3 [==============================] - 1s 194ms/step - loss: 0.0721 - val_loss: 0.6602\n",
            "Epoch 82/100\n",
            "3/3 [==============================] - 1s 201ms/step - loss: 0.0821 - val_loss: 0.6739\n",
            "Epoch 83/100\n",
            "3/3 [==============================] - 1s 199ms/step - loss: 0.0835 - val_loss: 0.7153\n",
            "Epoch 84/100\n",
            "3/3 [==============================] - 1s 195ms/step - loss: 0.0793 - val_loss: 0.6923\n",
            "Epoch 85/100\n",
            "3/3 [==============================] - 1s 201ms/step - loss: 0.0796 - val_loss: 0.6331\n",
            "Epoch 86/100\n",
            "3/3 [==============================] - 1s 199ms/step - loss: 0.0719 - val_loss: 0.6116\n",
            "Epoch 87/100\n",
            "3/3 [==============================] - 1s 199ms/step - loss: 0.0782 - val_loss: 0.5826\n",
            "Epoch 88/100\n",
            "3/3 [==============================] - 1s 199ms/step - loss: 0.0681 - val_loss: 0.5903\n",
            "Epoch 89/100\n",
            "3/3 [==============================] - 1s 199ms/step - loss: 0.0683 - val_loss: 0.6258\n",
            "Epoch 90/100\n",
            "3/3 [==============================] - 1s 196ms/step - loss: 0.0659 - val_loss: 0.5808\n",
            "Epoch 91/100\n",
            "3/3 [==============================] - 1s 196ms/step - loss: 0.0660 - val_loss: 0.5802\n",
            "Epoch 92/100\n",
            "3/3 [==============================] - 1s 202ms/step - loss: 0.0668 - val_loss: 0.5854\n",
            "Epoch 93/100\n",
            "3/3 [==============================] - 1s 200ms/step - loss: 0.0659 - val_loss: 0.5884\n",
            "Epoch 94/100\n",
            "3/3 [==============================] - 1s 199ms/step - loss: 0.0675 - val_loss: 0.5855\n",
            "Epoch 95/100\n",
            "3/3 [==============================] - 1s 202ms/step - loss: 0.0608 - val_loss: 0.5175\n",
            "Epoch 96/100\n",
            "3/3 [==============================] - 1s 199ms/step - loss: 0.0624 - val_loss: 0.4879\n",
            "Epoch 97/100\n",
            "3/3 [==============================] - 1s 198ms/step - loss: 0.0631 - val_loss: 0.4896\n",
            "Epoch 98/100\n",
            "3/3 [==============================] - 1s 201ms/step - loss: 0.0591 - val_loss: 0.4590\n",
            "Epoch 99/100\n",
            "3/3 [==============================] - 1s 200ms/step - loss: 0.0624 - val_loss: 0.4910\n",
            "Epoch 100/100\n",
            "3/3 [==============================] - 1s 190ms/step - loss: 0.0604 - val_loss: 0.4450\n"
          ]
        }
      ],
      "source": [
        "train(((X_train, y_train), (X_test, y_test)), model, epochs, batch_size)"
      ]
    },
    {
      "cell_type": "code",
      "execution_count": 216,
      "metadata": {
        "colab": {
          "base_uri": "https://localhost:8080/",
          "height": 203
        },
        "id": "FXvR7P1FFMpo",
        "outputId": "9f4f9a5d-18db-482f-cf1c-143afaee0497"
      },
      "outputs": [
        {
          "data": {
            "image/png": "[encoded data removed]",
            "text/plain": [
              "<Figure size 432x288 with 5 Axes>"
            ]
          },
          "metadata": {
            "needs_background": "light"
          },
          "output_type": "display_data"
        },
        {
          "data": {
            "image/png": "[encoded data removed]",
            "text/plain": [
              "<Figure size 432x288 with 5 Axes>"
            ]
          },
          "metadata": {
            "needs_background": "light"
          },
          "output_type": "display_data"
        }
      ],
      "source": [
        "predictions = []\n",
        "image_mask = []\n",
        "plots = 5\n",
        "\n",
        "for i, (img, mask) in enumerate(zip(X_test, y_test)):\n",
        "    if i == plots:\n",
        "        break\n",
        "    img = tf.expand_dims(img, 0)\n",
        "    pred = np.array(model.predict(img))\n",
        "    predictions.append(pred[0, :, :, 0] > 0.5)\n",
        "    image_mask.append(mask)\n",
        "plotn(plots, (predictions, image_mask))"
      ]
    },
    {
      "cell_type": "markdown",
      "metadata": {
        "id": "RU5KGWXaTbso"
      },
      "source": [
        "## U-Net\n",
        "\n",
        "Very simple architecture that uses skip connections. Skip connections at each convolution level helps network doesn't lost information about features from original input at this level.\n",
        "\n",
        "U-Net usually has a default encoder for feature extraction, for example resnet50.\n",
        "\n",
        "<img src=\"images/unet.png\" width=\"70%\">\n",
        "\n",
        "* Ronneberger, Olaf, Philipp Fischer, and Thomas Brox. [U-Net: Convolutional networks for biomedical image segmentation.](https://arxiv.org/pdf/1505.04597.pdf)"
      ]
    },
    {
      "cell_type": "code",
      "execution_count": 217,
      "metadata": {
        "id": "dFFh1_UYQc-K"
      },
      "outputs": [],
      "source": [
        "class UNet(tf.keras.Model):\n",
        "    def __init__(self):\n",
        "        super().__init__()\n",
        "        self.enc_conv0 = keras.Conv2D(16, kernel_size=3, padding='same')\n",
        "        self.bn0 = keras.BatchNormalization()\n",
        "        self.relu0 = keras.Activation('relu')\n",
        "        self.pool0 = keras.MaxPool2D()\n",
        "\n",
        "        self.enc_conv1 = keras.Conv2D(32, kernel_size=3, padding='same')\n",
        "        self.relu1 = keras.Activation('relu')\n",
        "        self.bn1 = keras.BatchNormalization()\n",
        "        self.pool1 = keras.MaxPool2D()\n",
        "\n",
        "        self.enc_conv2 = keras.Conv2D(64, kernel_size=3, padding='same')\n",
        "        self.relu2 = keras.Activation('relu')\n",
        "        self.bn2 = keras.BatchNormalization()\n",
        "        self.pool2 = keras.MaxPool2D()\n",
        "\n",
        "        self.enc_conv3 = keras.Conv2D(128, kernel_size=3, padding='same')\n",
        "        self.relu3 = keras.Activation('relu')\n",
        "        self.bn3 = keras.BatchNormalization()\n",
        "        self.pool3 = keras.MaxPool2D()\n",
        "\n",
        "        self.bottleneck_conv = keras.Conv2D(256, kernel_size=(3, 3), padding='same')\n",
        "\n",
        "        self.upsample0 =  keras.UpSampling2D(interpolation='bilinear')\n",
        "        self.dec_conv0 = keras.Conv2D(128, kernel_size=3, padding='same', input_shape=[None, 384, None, None])\n",
        "        self.dec_relu0 = keras.Activation('relu')\n",
        "        self.dec_bn0 = keras.BatchNormalization()\n",
        "\n",
        "        self.upsample1 =  keras.UpSampling2D(interpolation='bilinear')\n",
        "        self.dec_conv1 = keras.Conv2D(64, kernel_size=3, padding='same', input_shape=[None, 192, None, None])\n",
        "        self.dec_relu1 = keras.Activation('relu')\n",
        "        self.dec_bn1 = keras.BatchNormalization()\n",
        "\n",
        "        self.upsample2 =  keras.UpSampling2D(interpolation='bilinear')\n",
        "        self.dec_conv2 = keras.Conv2D(32, kernel_size=3, padding='same', input_shape=[None, 96, None, None])\n",
        "        self.dec_relu2 = keras.Activation('relu')\n",
        "        self.dec_bn2 = keras.BatchNormalization()\n",
        "\n",
        "        self.upsample3 =  keras.UpSampling2D(interpolation='bilinear')\n",
        "        self.dec_conv3 = keras.Conv2D(1, kernel_size=1, input_shape=[None, 48, None, None])\n",
        "\n",
        "        self.cat0 = keras.Concatenate(axis=3)\n",
        "        self.cat1 = keras.Concatenate(axis=3)\n",
        "        self.cat2 = keras.Concatenate(axis=3)\n",
        "        self.cat3 = keras.Concatenate(axis=3)\n",
        "\n",
        "    def call(self, input):\n",
        "        e0 = self.pool0(self.relu0(self.bn0(self.enc_conv0(input))))\n",
        "        e1 = self.pool1(self.relu1(self.bn1(self.enc_conv1(e0))))\n",
        "        e2 = self.pool2(self.relu2(self.bn2(self.enc_conv2(e1))))\n",
        "        e3 = self.pool3(self.relu3(self.bn3(self.enc_conv3(e2))))\n",
        "\n",
        "        cat0 = self.relu0(self.bn0(self.enc_conv0(input)))\n",
        "        cat1 = self.relu1(self.bn1(self.enc_conv1(e0)))\n",
        "        cat2 = self.relu2(self.bn2(self.enc_conv2(e1)))\n",
        "        cat3 = self.relu3(self.bn3(self.enc_conv3(e2)))\n",
        "\n",
        "        b = self.bottleneck_conv(e3)\n",
        "\n",
        "        cat_tens0 = self.cat0([self.upsample0(b), cat3])\n",
        "        d0 = self.dec_relu0(self.dec_bn0(self.dec_conv0(cat_tens0)))\n",
        "\n",
        "        cat_tens1 = self.cat1([self.upsample1(d0), cat2])\n",
        "        d1 = self.dec_relu1(self.dec_bn1(self.dec_conv1(cat_tens1)))\n",
        "\n",
        "        cat_tens2 = self.cat2([self.upsample2(d1), cat1])\n",
        "        d2 = self.dec_relu2(self.dec_bn2(self.dec_conv2(cat_tens2)))\n",
        "\n",
        "        cat_tens3 = self.cat3([self.upsample3(d2), cat0])\n",
        "        d3 = self.dec_conv3(cat_tens3)\n",
        "\n",
        "        return d3"
      ]
    },
    {
      "cell_type": "code",
      "execution_count": 221,
      "metadata": {
        "id": "15GA_43BTbtI"
      },
      "outputs": [],
      "source": [
        "model = UNet()\n",
        "optimizer = optimizers.Adam(learning_rate=lr, decay=weight_decay)\n",
        "loss_fn = losses.BinaryCrossentropy(from_logits=True)\n",
        "\n",
        "model.compile(loss=loss_fn, optimizer=optimizer)"
      ]
    },
    {
      "cell_type": "code",
      "execution_count": 222,
      "metadata": {
        "colab": {
          "base_uri": "https://localhost:8080/"
        },
        "id": "_dgiuvVVFMpr",
        "outputId": "6140f029-b42b-417a-9f70-4c0656e49047"
      },
      "outputs": [
        {
          "name": "stdout",
          "output_type": "stream",
          "text": [
            "Epoch 1/100\n",
            "3/3 [==============================] - 5s 482ms/step - loss: 0.5073 - val_loss: 0.6237\n",
            "Epoch 2/100\n",
            "3/3 [==============================] - 1s 368ms/step - loss: 0.3388 - val_loss: 0.6192\n",
            "Epoch 3/100\n",
            "3/3 [==============================] - 1s 363ms/step - loss: 0.2867 - val_loss: 0.6133\n",
            "Epoch 4/100\n",
            "3/3 [==============================] - 1s 367ms/step - loss: 0.2624 - val_loss: 0.6043\n",
            "Epoch 5/100\n",
            "3/3 [==============================] - 1s 365ms/step - loss: 0.2435 - val_loss: 0.5949\n",
            "Epoch 6/100\n",
            "3/3 [==============================] - 1s 364ms/step - loss: 0.2320 - val_loss: 0.5844\n",
            "Epoch 7/100\n",
            "3/3 [==============================] - 1s 369ms/step - loss: 0.2201 - val_loss: 0.5781\n",
            "Epoch 8/100\n",
            "3/3 [==============================] - 1s 362ms/step - loss: 0.2119 - val_loss: 0.5673\n",
            "Epoch 9/100\n",
            "3/3 [==============================] - 1s 367ms/step - loss: 0.2047 - val_loss: 0.5588\n",
            "Epoch 10/100\n",
            "3/3 [==============================] - 1s 360ms/step - loss: 0.1946 - val_loss: 0.5544\n",
            "Epoch 11/100\n",
            "3/3 [==============================] - 1s 368ms/step - loss: 0.1959 - val_loss: 0.5412\n",
            "Epoch 12/100\n",
            "3/3 [==============================] - 1s 366ms/step - loss: 0.1814 - val_loss: 0.5346\n",
            "Epoch 13/100\n",
            "3/3 [==============================] - 1s 366ms/step - loss: 0.1780 - val_loss: 0.5336\n",
            "Epoch 14/100\n",
            "3/3 [==============================] - 1s 368ms/step - loss: 0.1727 - val_loss: 0.5344\n",
            "Epoch 15/100\n",
            "3/3 [==============================] - 1s 367ms/step - loss: 0.1715 - val_loss: 0.5280\n",
            "Epoch 16/100\n",
            "3/3 [==============================] - 1s 368ms/step - loss: 0.1691 - val_loss: 0.5166\n",
            "Epoch 17/100\n",
            "3/3 [==============================] - 1s 365ms/step - loss: 0.1641 - val_loss: 0.5133\n",
            "Epoch 18/100\n",
            "3/3 [==============================] - 1s 366ms/step - loss: 0.1707 - val_loss: 0.5221\n",
            "Epoch 19/100\n",
            "3/3 [==============================] - 1s 367ms/step - loss: 0.1628 - val_loss: 0.5239\n",
            "Epoch 20/100\n",
            "3/3 [==============================] - 1s 363ms/step - loss: 0.1615 - val_loss: 0.5177\n",
            "Epoch 21/100\n",
            "3/3 [==============================] - 1s 362ms/step - loss: 0.1577 - val_loss: 0.5221\n",
            "Epoch 22/100\n",
            "3/3 [==============================] - 1s 369ms/step - loss: 0.1566 - val_loss: 0.5044\n",
            "Epoch 23/100\n",
            "3/3 [==============================] - 1s 365ms/step - loss: 0.1561 - val_loss: 0.5046\n",
            "Epoch 24/100\n",
            "3/3 [==============================] - 1s 366ms/step - loss: 0.1469 - val_loss: 0.5063\n",
            "Epoch 25/100\n",
            "3/3 [==============================] - 1s 368ms/step - loss: 0.1437 - val_loss: 0.4947\n",
            "Epoch 26/100\n",
            "3/3 [==============================] - 1s 371ms/step - loss: 0.1428 - val_loss: 0.4857\n",
            "Epoch 27/100\n",
            "3/3 [==============================] - 1s 366ms/step - loss: 0.1449 - val_loss: 0.4850\n",
            "Epoch 28/100\n",
            "3/3 [==============================] - 1s 367ms/step - loss: 0.1426 - val_loss: 0.4875\n",
            "Epoch 29/100\n",
            "3/3 [==============================] - 1s 392ms/step - loss: 0.1444 - val_loss: 0.4638\n",
            "Epoch 30/100\n",
            "3/3 [==============================] - 1s 365ms/step - loss: 0.1341 - val_loss: 0.4796\n",
            "Epoch 31/100\n",
            "3/3 [==============================] - 1s 367ms/step - loss: 0.1357 - val_loss: 0.4689\n",
            "Epoch 32/100\n",
            "3/3 [==============================] - 1s 365ms/step - loss: 0.1351 - val_loss: 0.4550\n",
            "Epoch 33/100\n",
            "3/3 [==============================] - 1s 366ms/step - loss: 0.1294 - val_loss: 0.4419\n",
            "Epoch 34/100\n",
            "3/3 [==============================] - 1s 369ms/step - loss: 0.1271 - val_loss: 0.4100\n",
            "Epoch 35/100\n",
            "3/3 [==============================] - 1s 368ms/step - loss: 0.1265 - val_loss: 0.4188\n",
            "Epoch 36/100\n",
            "3/3 [==============================] - 1s 367ms/step - loss: 0.1214 - val_loss: 0.4285\n",
            "Epoch 37/100\n",
            "3/3 [==============================] - 1s 371ms/step - loss: 0.1206 - val_loss: 0.4129\n",
            "Epoch 38/100\n",
            "3/3 [==============================] - 1s 365ms/step - loss: 0.1230 - val_loss: 0.4196\n",
            "Epoch 39/100\n",
            "3/3 [==============================] - 1s 369ms/step - loss: 0.1213 - val_loss: 0.3899\n",
            "Epoch 40/100\n",
            "3/3 [==============================] - 1s 365ms/step - loss: 0.1184 - val_loss: 0.3972\n",
            "Epoch 41/100\n",
            "3/3 [==============================] - 1s 366ms/step - loss: 0.1163 - val_loss: 0.3951\n",
            "Epoch 42/100\n",
            "3/3 [==============================] - 1s 368ms/step - loss: 0.1193 - val_loss: 0.3735\n",
            "Epoch 43/100\n",
            "3/3 [==============================] - 1s 368ms/step - loss: 0.1239 - val_loss: 0.3669\n",
            "Epoch 44/100\n",
            "3/3 [==============================] - 1s 368ms/step - loss: 0.1137 - val_loss: 0.3668\n",
            "Epoch 45/100\n",
            "3/3 [==============================] - 1s 368ms/step - loss: 0.1096 - val_loss: 0.3684\n",
            "Epoch 46/100\n",
            "3/3 [==============================] - 1s 367ms/step - loss: 0.1144 - val_loss: 0.3403\n",
            "Epoch 47/100\n",
            "3/3 [==============================] - 1s 371ms/step - loss: 0.1209 - val_loss: 0.3419\n",
            "Epoch 48/100\n",
            "3/3 [==============================] - 1s 395ms/step - loss: 0.1071 - val_loss: 0.3213\n",
            "Epoch 49/100\n",
            "3/3 [==============================] - 1s 370ms/step - loss: 0.1074 - val_loss: 0.3212\n",
            "Epoch 50/100\n",
            "3/3 [==============================] - 1s 369ms/step - loss: 0.1039 - val_loss: 0.3247\n",
            "Epoch 51/100\n",
            "3/3 [==============================] - 1s 367ms/step - loss: 0.1085 - val_loss: 0.3067\n",
            "Epoch 52/100\n",
            "3/3 [==============================] - 1s 394ms/step - loss: 0.1090 - val_loss: 0.3093\n",
            "Epoch 53/100\n",
            "3/3 [==============================] - 1s 367ms/step - loss: 0.1098 - val_loss: 0.2827\n",
            "Epoch 54/100\n",
            "3/3 [==============================] - 1s 373ms/step - loss: 0.1039 - val_loss: 0.2746\n",
            "Epoch 55/100\n",
            "3/3 [==============================] - 1s 365ms/step - loss: 0.1037 - val_loss: 0.2868\n",
            "Epoch 56/100\n",
            "3/3 [==============================] - 1s 369ms/step - loss: 0.1004 - val_loss: 0.2750\n",
            "Epoch 57/100\n",
            "3/3 [==============================] - 1s 371ms/step - loss: 0.0995 - val_loss: 0.2636\n",
            "Epoch 58/100\n",
            "3/3 [==============================] - 1s 365ms/step - loss: 0.0940 - val_loss: 0.2648\n",
            "Epoch 59/100\n",
            "3/3 [==============================] - 1s 371ms/step - loss: 0.0953 - val_loss: 0.2583\n",
            "Epoch 60/100\n",
            "3/3 [==============================] - 1s 368ms/step - loss: 0.0976 - val_loss: 0.2508\n",
            "Epoch 61/100\n",
            "3/3 [==============================] - 1s 371ms/step - loss: 0.0905 - val_loss: 0.2378\n",
            "Epoch 62/100\n",
            "3/3 [==============================] - 1s 372ms/step - loss: 0.0900 - val_loss: 0.2481\n",
            "Epoch 63/100\n",
            "3/3 [==============================] - 1s 396ms/step - loss: 0.0858 - val_loss: 0.2540\n",
            "Epoch 64/100\n",
            "3/3 [==============================] - 1s 373ms/step - loss: 0.0847 - val_loss: 0.2499\n",
            "Epoch 65/100\n",
            "3/3 [==============================] - 1s 372ms/step - loss: 0.0841 - val_loss: 0.2326\n",
            "Epoch 66/100\n",
            "3/3 [==============================] - 1s 369ms/step - loss: 0.0871 - val_loss: 0.2275\n",
            "Epoch 67/100\n",
            "3/3 [==============================] - 1s 372ms/step - loss: 0.0827 - val_loss: 0.2274\n",
            "Epoch 68/100\n",
            "3/3 [==============================] - 1s 370ms/step - loss: 0.0889 - val_loss: 0.2166\n",
            "Epoch 69/100\n",
            "3/3 [==============================] - 1s 370ms/step - loss: 0.0882 - val_loss: 0.2222\n",
            "Epoch 70/100\n",
            "3/3 [==============================] - 1s 369ms/step - loss: 0.0885 - val_loss: 0.2330\n",
            "Epoch 71/100\n",
            "3/3 [==============================] - 1s 368ms/step - loss: 0.0878 - val_loss: 0.2104\n",
            "Epoch 72/100\n",
            "3/3 [==============================] - 1s 372ms/step - loss: 0.0843 - val_loss: 0.2211\n",
            "Epoch 73/100\n",
            "3/3 [==============================] - 1s 392ms/step - loss: 0.0837 - val_loss: 0.2141\n",
            "Epoch 74/100\n",
            "3/3 [==============================] - 1s 374ms/step - loss: 0.0858 - val_loss: 0.1999\n",
            "Epoch 75/100\n",
            "3/3 [==============================] - 1s 367ms/step - loss: 0.0798 - val_loss: 0.2131\n",
            "Epoch 76/100\n",
            "3/3 [==============================] - 1s 372ms/step - loss: 0.0769 - val_loss: 0.1851\n",
            "Epoch 77/100\n",
            "3/3 [==============================] - 1s 396ms/step - loss: 0.0788 - val_loss: 0.1921\n",
            "Epoch 78/100\n",
            "3/3 [==============================] - 1s 372ms/step - loss: 0.0771 - val_loss: 0.2266\n",
            "Epoch 79/100\n",
            "3/3 [==============================] - 1s 373ms/step - loss: 0.0738 - val_loss: 0.1826\n",
            "Epoch 80/100\n",
            "3/3 [==============================] - 1s 371ms/step - loss: 0.0728 - val_loss: 0.1870\n",
            "Epoch 81/100\n",
            "3/3 [==============================] - 1s 373ms/step - loss: 0.0759 - val_loss: 0.1821\n",
            "Epoch 82/100\n",
            "3/3 [==============================] - 1s 372ms/step - loss: 0.0830 - val_loss: 0.1887\n",
            "Epoch 83/100\n",
            "3/3 [==============================] - 1s 373ms/step - loss: 0.0861 - val_loss: 0.1783\n",
            "Epoch 84/100\n",
            "3/3 [==============================] - 1s 372ms/step - loss: 0.0854 - val_loss: 0.1988\n",
            "Epoch 85/100\n",
            "3/3 [==============================] - 1s 373ms/step - loss: 0.0857 - val_loss: 0.1749\n",
            "Epoch 86/100\n",
            "3/3 [==============================] - 1s 372ms/step - loss: 0.0820 - val_loss: 0.1620\n",
            "Epoch 87/100\n",
            "3/3 [==============================] - 1s 368ms/step - loss: 0.0874 - val_loss: 0.1668\n",
            "Epoch 88/100\n",
            "3/3 [==============================] - 1s 374ms/step - loss: 0.0744 - val_loss: 0.1711\n",
            "Epoch 89/100\n",
            "3/3 [==============================] - 1s 371ms/step - loss: 0.0750 - val_loss: 0.1632\n",
            "Epoch 90/100\n",
            "3/3 [==============================] - 1s 399ms/step - loss: 0.0717 - val_loss: 0.1742\n",
            "Epoch 91/100\n",
            "3/3 [==============================] - 1s 372ms/step - loss: 0.0723 - val_loss: 0.1670\n",
            "Epoch 92/100\n",
            "3/3 [==============================] - 1s 374ms/step - loss: 0.0713 - val_loss: 0.1652\n",
            "Epoch 93/100\n",
            "3/3 [==============================] - 1s 372ms/step - loss: 0.0718 - val_loss: 0.1707\n",
            "Epoch 94/100\n",
            "3/3 [==============================] - 1s 373ms/step - loss: 0.0739 - val_loss: 0.1692\n",
            "Epoch 95/100\n",
            "3/3 [==============================] - 1s 400ms/step - loss: 0.0650 - val_loss: 0.1621\n",
            "Epoch 96/100\n",
            "3/3 [==============================] - 1s 374ms/step - loss: 0.0653 - val_loss: 0.1547\n",
            "Epoch 97/100\n",
            "3/3 [==============================] - 1s 372ms/step - loss: 0.0681 - val_loss: 0.1475\n",
            "Epoch 98/100\n",
            "3/3 [==============================] - 1s 369ms/step - loss: 0.0613 - val_loss: 0.1513\n",
            "Epoch 99/100\n",
            "3/3 [==============================] - 1s 371ms/step - loss: 0.0665 - val_loss: 0.1537\n",
            "Epoch 100/100\n",
            "3/3 [==============================] - 1s 363ms/step - loss: 0.0640 - val_loss: 0.1525\n"
          ]
        }
      ],
      "source": [
        "train(((X_train, y_train), (X_test, y_test)), model, epochs, batch_size)"
      ]
    },
    {
      "cell_type": "code",
      "execution_count": 228,
      "metadata": {
        "colab": {
          "base_uri": "https://localhost:8080/",
          "height": 203
        },
        "id": "iEu5wjuMFMps",
        "outputId": "9deaded5-fe99-4cf4-dfe1-4e5eb12d3c0f"
      },
      "outputs": [
        {
          "data": {
            "image/png": "[encoded data removed]",
            "text/plain": [
              "<Figure size 432x288 with 5 Axes>"
            ]
          },
          "metadata": {
            "needs_background": "light"
          },
          "output_type": "display_data"
        },
        {
          "data": {
            "image/png": "[encoded data removed]",
            "text/plain": [
              "<Figure size 432x288 with 5 Axes>"
            ]
          },
          "metadata": {
            "needs_background": "light"
          },
          "output_type": "display_data"
        }
      ],
      "source": [
        "predictions = []\n",
        "image_mask = []\n",
        "plots = 5\n",
        "\n",
        "for i, (img, mask) in enumerate(zip(X_test, y_test)):\n",
        "    if i == plots:\n",
        "        break\n",
        "    img = tf.expand_dims(img, 0)\n",
        "    pred = np.array(model.predict(img))\n",
        "    predictions.append(pred[0, :, :, 0] > 0.5)\n",
        "    image_mask.append(mask)\n",
        "plotn(plots, (predictions, image_mask))"
      ]
    }
  ],
  "metadata": {
    "accelerator": "GPU",
    "colab": {
      "collapsed_sections": [],
      "name": "SemanticSegmentation.ipynb",
      "provenance": []
    },
    "kernelspec": {
      "display_name": "Python 3",
      "language": "python",
      "name": "python3"
    },
    "language_info": {
      "codemirror_mode": {
        "name": "ipython",
        "version": 3
      },
      "file_extension": ".py",
      "mimetype": "text/x-python",
      "name": "python",
      "nbconvert_exporter": "python",
      "pygments_lexer": "ipython3",
      "version": "3.7.12"
    }
  },
  "nbformat": 4,
  "nbformat_minor": 0
}
