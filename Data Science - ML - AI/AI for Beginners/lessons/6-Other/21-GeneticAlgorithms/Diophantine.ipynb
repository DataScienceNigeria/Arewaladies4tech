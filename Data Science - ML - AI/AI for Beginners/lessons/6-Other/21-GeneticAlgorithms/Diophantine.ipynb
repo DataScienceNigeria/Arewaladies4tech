{
 "cells": [
  {
   "cell_type": "markdown",
   "metadata": {},
   "source": [
    "## Assignment: Diophantine Equations\n",
    "\n",
    "> This assignment is part of [AI for Beginners Curriculum](http://github.com/microsoft/ai-for-beginners) and is inspired by [this post](https://habr.com/post/128704/).\n",
    "\n",
    "Your goal is to solve so-called **Diophantine equation** - an equation with integer roots and integer coefficients. For example, consider the following equation:\n",
    "\n",
    "$$a+2b+3c+4d=30$$\n",
    "\n",
    "You need to find integer roots $a$,$b$,$c$,$d\\in\\mathbb{N}$ that satisfy this equation.\n",
    "\n",
    "Hints:\n",
    "1. You can consider roots to be in the interval [0;30]\n",
    "1. As a gene, consider using the list of root values"
   ]
  },
  {
   "cell_type": "markdown",
   "metadata": {},
   "source": []
  }
 ],
 "metadata": {
  "language_info": {
   "name": "python"
  },
  "orig_nbformat": 4
 },
 "nbformat": 4,
 "nbformat_minor": 2
}
